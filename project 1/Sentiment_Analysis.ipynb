{
  "nbformat": 4,
  "nbformat_minor": 0,
  "metadata": {
    "colab": {
      "provenance": [],
      "gpuType": "T4"
    },
    "kernelspec": {
      "name": "python3",
      "display_name": "Python 3"
    },
    "language_info": {
      "name": "python"
    },
    "accelerator": "GPU"
  },
  "cells": [
    {
      "cell_type": "code",
      "execution_count": 1,
      "metadata": {
        "id": "fJzW8UpHW-ph"
      },
      "outputs": [],
      "source": [
        "import pandas as pd\n",
        "import numpy\n",
        "import matplotlib.pyplot as plt\n",
        "import seaborn as sns"
      ]
    },
    {
      "cell_type": "code",
      "source": [
        "pip install textblob\n"
      ],
      "metadata": {
        "colab": {
          "base_uri": "https://localhost:8080/"
        },
        "id": "M0m56UuDYFWc",
        "outputId": "9b32a04a-a91d-429f-b859-72ebc3f2617b"
      },
      "execution_count": 5,
      "outputs": [
        {
          "output_type": "stream",
          "name": "stdout",
          "text": [
            "Requirement already satisfied: textblob in /usr/local/lib/python3.11/dist-packages (0.19.0)\n",
            "Requirement already satisfied: nltk>=3.9 in /usr/local/lib/python3.11/dist-packages (from textblob) (3.9.1)\n",
            "Requirement already satisfied: click in /usr/local/lib/python3.11/dist-packages (from nltk>=3.9->textblob) (8.2.1)\n",
            "Requirement already satisfied: joblib in /usr/local/lib/python3.11/dist-packages (from nltk>=3.9->textblob) (1.5.1)\n",
            "Requirement already satisfied: regex>=2021.8.3 in /usr/local/lib/python3.11/dist-packages (from nltk>=3.9->textblob) (2024.11.6)\n",
            "Requirement already satisfied: tqdm in /usr/local/lib/python3.11/dist-packages (from nltk>=3.9->textblob) (4.67.1)\n"
          ]
        }
      ]
    },
    {
      "cell_type": "code",
      "source": [
        "from textblob import TextBlob"
      ],
      "metadata": {
        "id": "8fXV6N_GaQB1"
      },
      "execution_count": 6,
      "outputs": []
    },
    {
      "cell_type": "code",
      "source": [
        "text=input(\"enter a sentence or review\")"
      ],
      "metadata": {
        "colab": {
          "base_uri": "https://localhost:8080/"
        },
        "id": "xoIYZCMvazOO",
        "outputId": "2f28d21d-7b56-45a9-94b7-14721e733479"
      },
      "execution_count": 7,
      "outputs": [
        {
          "name": "stdout",
          "output_type": "stream",
          "text": [
            "enter a sentence or reviewhi i am tamghna and i am sad\n"
          ]
        }
      ]
    },
    {
      "cell_type": "code",
      "source": [
        "#create a textblob object\n",
        "blob=TextBlob(text)"
      ],
      "metadata": {
        "id": "34MoxVrAbJpR"
      },
      "execution_count": 8,
      "outputs": []
    },
    {
      "cell_type": "code",
      "source": [
        "#get the sentiment\n",
        "sentiment = blob.sentiment\n",
        "print(sentiment)\n"
      ],
      "metadata": {
        "colab": {
          "base_uri": "https://localhost:8080/"
        },
        "id": "nAFt_zHdbT-2",
        "outputId": "6d32587b-94cd-4b02-c723-dece2ef69ae9"
      },
      "execution_count": 9,
      "outputs": [
        {
          "output_type": "stream",
          "name": "stdout",
          "text": [
            "Sentiment(polarity=-0.5, subjectivity=1.0)\n"
          ]
        }
      ]
    },
    {
      "cell_type": "code",
      "source": [
        "def analyze_sentiment(text):\n",
        "    blob = TextBlob(text)\n",
        "    polarity = blob.sentiment.polarity\n",
        "\n",
        "    if polarity > 0:\n",
        "        return \"Positive 😀\"\n",
        "    elif polarity < 0:\n",
        "        return \"Negative 😞\"\n",
        "    else:\n",
        "        return \"Neutral 😐\"\n"
      ],
      "metadata": {
        "id": "LCccHiuCammG"
      },
      "execution_count": 10,
      "outputs": []
    },
    {
      "cell_type": "code",
      "source": [
        "sentence = input(\"Enter a sentence: \")\n",
        "print(\"Sentiment:\", analyze_sentiment(sentence))\n"
      ],
      "metadata": {
        "colab": {
          "base_uri": "https://localhost:8080/"
        },
        "id": "zaPm9X8ka1XE",
        "outputId": "7910c6bf-abee-489a-ccc0-fcfd88025cf1"
      },
      "execution_count": 11,
      "outputs": [
        {
          "output_type": "stream",
          "name": "stdout",
          "text": [
            "Enter a sentence: its amazing!\n",
            "Sentiment: Positive 😀\n"
          ]
        }
      ]
    },
    {
      "cell_type": "code",
      "source": [
        "print(analyze_sentiment(\"I love this codeclause internship!\"))\n",
        "print(analyze_sentiment(\"This is the worst movie ever.\"))\n",
        "print(analyze_sentiment(\"The food was okay, not great.\"))\n"
      ],
      "metadata": {
        "colab": {
          "base_uri": "https://localhost:8080/"
        },
        "id": "42RLVAwRa3NB",
        "outputId": "503838c5-31d0-465e-bd3e-72cb15e21c40"
      },
      "execution_count": 13,
      "outputs": [
        {
          "output_type": "stream",
          "name": "stdout",
          "text": [
            "Positive 😀\n",
            "Negative 😞\n",
            "Positive 😀\n"
          ]
        }
      ]
    }
  ]
}